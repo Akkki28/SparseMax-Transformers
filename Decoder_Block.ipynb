{
  "nbformat": 4,
  "nbformat_minor": 0,
  "metadata": {
    "colab": {
      "provenance": [],
      "authorship_tag": "ABX9TyNU1qhwQU9y/vPtCRYPxI/4",
      "include_colab_link": true
    },
    "kernelspec": {
      "name": "python3",
      "display_name": "Python 3"
    },
    "language_info": {
      "name": "python"
    }
  },
  "cells": [
    {
      "cell_type": "markdown",
      "metadata": {
        "id": "view-in-github",
        "colab_type": "text"
      },
      "source": [
        "<a href=\"https://colab.research.google.com/github/Akkki28/SparseMax-Transformers/blob/main/Decoder_Block.ipynb\" target=\"_parent\"><img src=\"https://colab.research.google.com/assets/colab-badge.svg\" alt=\"Open In Colab\"/></a>"
      ]
    },
    {
      "cell_type": "code",
      "source": [
        "import torch\n",
        "from torch import nn\n",
        "import matplotlib.pyplot as plt\n",
        "import math\n",
        "import seaborn as sns\n",
        "import torch.nn.functional as F\n",
        "from torch.autograd import Function\n",
        "#import MultiHeadAttention"
      ],
      "metadata": {
        "id": "odCvm9q7khYH"
      },
      "execution_count": 1,
      "outputs": []
    },
    {
      "cell_type": "code",
      "source": [
        "class DecoderBlock(nn.Module):\n",
        "\n",
        "    def __init__(self, input_dim, num_heads, dim_feedforward, dropout=0.0):\n",
        "        super().__init__()\n",
        "        self.self_attn = MultiheadAttention(input_dim, input_dim, num_heads)\n",
        "\n",
        "        self.cross_attn = MultiheadAttention(input_dim, input_dim, num_heads)\n",
        "\n",
        "        self.linear_net = nn.Sequential(\n",
        "            nn.Linear(input_dim, dim_feedforward),\n",
        "            nn.Dropout(dropout),\n",
        "            nn.ReLU(inplace=True),\n",
        "            nn.Linear(dim_feedforward, input_dim)\n",
        "        )\n",
        "\n",
        "        self.norm1 = nn.LayerNorm(input_dim)\n",
        "        self.norm2 = nn.LayerNorm(input_dim)\n",
        "        self.norm3 = nn.LayerNorm(input_dim)\n",
        "        self.dropout = nn.Dropout(dropout)\n",
        "\n",
        "    def forward(self, x, encoder_output, src_mask=None, tgt_mask=None):\n",
        "        attn_out1 = self.self_attn(x, mask=tgt_mask)\n",
        "        x = x + self.dropout(attn_out1)\n",
        "        x = self.norm1(x)\n",
        "\n",
        "        attn_out2 = self.cross_attn(x, encoder_output, mask=src_mask)\n",
        "        x = x + self.dropout(attn_out2)\n",
        "        x = self.norm2(x)\n",
        "\n",
        "        linear_out = self.linear_net(x)\n",
        "        x = x + self.dropout(linear_out)\n",
        "        x = self.norm3(x)\n",
        "\n",
        "        return x\n"
      ],
      "metadata": {
        "id": "2Ge3RsNhsZ-R"
      },
      "execution_count": 8,
      "outputs": []
    }
  ]
}