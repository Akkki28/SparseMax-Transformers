{
  "nbformat": 4,
  "nbformat_minor": 0,
  "metadata": {
    "colab": {
      "provenance": [],
      "authorship_tag": "ABX9TyNAL2RTNDZOaqK3xojfkOBi",
      "include_colab_link": true
    },
    "kernelspec": {
      "name": "python3",
      "display_name": "Python 3"
    },
    "language_info": {
      "name": "python"
    }
  },
  "cells": [
    {
      "cell_type": "markdown",
      "metadata": {
        "id": "view-in-github",
        "colab_type": "text"
      },
      "source": [
        "<a href=\"https://colab.research.google.com/github/Akkki28/SparseMax-Transformers/blob/main/MultiHeadAttention.ipynb\" target=\"_parent\"><img src=\"https://colab.research.google.com/assets/colab-badge.svg\" alt=\"Open In Colab\"/></a>"
      ]
    },
    {
      "cell_type": "code",
      "source": [
        "import torch\n",
        "from torch import nn\n",
        "import matplotlib.pyplot as plt\n",
        "import math\n",
        "import seaborn as sns\n",
        "import torch.nn.functional as F\n",
        "from torch.autograd import Function\n",
        "#import the attention notebooks\n",
        "#import SparseMax_Attention\n",
        "#from SparseMax_Attention import scaled_dot_product\n",
        "#from SparseMax_Attention import Sparsemax"
      ],
      "metadata": {
        "id": "odCvm9q7khYH"
      },
      "execution_count": 1,
      "outputs": []
    },
    {
      "cell_type": "code",
      "source": [
        "def expand_mask(mask):\n",
        "    assert mask.ndim >= 2, \"Mask must be at least 2-dimensional with seq_length x seq_length\"\n",
        "    if mask.ndim == 3:\n",
        "        mask = mask.unsqueeze(1)\n",
        "    while mask.ndim < 4:\n",
        "        mask = mask.unsqueeze(0)\n",
        "    return mask"
      ],
      "metadata": {
        "id": "uDgK-Sfuk1Fp"
      },
      "execution_count": 5,
      "outputs": []
    },
    {
      "cell_type": "code",
      "source": [
        "class MultiheadAttention(nn.Module):\n",
        "\n",
        "    def __init__(self, input_dim, embed_dim, num_heads):\n",
        "        super().__init__()\n",
        "        assert embed_dim % num_heads == 0, \"Embedding dimension must be divisible by number of heads.\"\n",
        "\n",
        "        self.embed_dim = embed_dim\n",
        "        self.num_heads = num_heads\n",
        "        self.head_dim = embed_dim // num_heads\n",
        "\n",
        "        self.qkv_proj = nn.Linear(input_dim, 3*embed_dim)\n",
        "        self.o_proj = nn.Linear(embed_dim, embed_dim)\n",
        "\n",
        "        self._reset_parameters()\n",
        "\n",
        "    def _reset_parameters(self):\n",
        "        nn.init.xavier_uniform_(self.qkv_proj.weight)\n",
        "        self.qkv_proj.bias.data.fill_(0)\n",
        "        nn.init.xavier_uniform_(self.o_proj.weight)\n",
        "        self.o_proj.bias.data.fill_(0)\n",
        "\n",
        "    def forward(self, x, mask=None, return_attention=False):\n",
        "        batch_size, seq_length, _ = x.size()\n",
        "        if mask is not None:\n",
        "            mask = expand_mask(mask)\n",
        "        qkv = self.qkv_proj(x)\n",
        "\n",
        "        qkv = qkv.reshape(batch_size, seq_length, self.num_heads, 3*self.head_dim)\n",
        "        qkv = qkv.permute(0, 2, 1, 3) # [Batch, Head, SeqLen, Dims]\n",
        "        q, k, v = qkv.chunk(3, dim=-1)\n",
        "\n",
        "        values, attention = scaled_dot_product(q, k, v, mask=mask)\n",
        "        values = values.permute(0, 2, 1, 3) # [Batch, SeqLen, Head, Dims]\n",
        "        values = values.reshape(batch_size, seq_length, self.embed_dim)\n",
        "        o = self.o_proj(values)\n",
        "\n",
        "        if return_attention:\n",
        "            return o, attention\n",
        "        else:\n",
        "            return o"
      ],
      "metadata": {
        "id": "mXe5zg8gkm5V"
      },
      "execution_count": 6,
      "outputs": []
    },
    {
      "cell_type": "code",
      "source": [
        "batch_size = 2\n",
        "seq_length = 5\n",
        "input_dim = 10\n",
        "embed_dim = 16\n",
        "num_heads = 4"
      ],
      "metadata": {
        "id": "ia-UclIJk9yK"
      },
      "execution_count": 7,
      "outputs": []
    },
    {
      "cell_type": "code",
      "source": [
        "x = torch.randn(batch_size, seq_length, input_dim)\n",
        "mha = MultiheadAttention(input_dim, embed_dim, num_heads)\n",
        "output, attention = mha(x, return_attention=True)"
      ],
      "metadata": {
        "id": "OAeR5bTtlOXz"
      },
      "execution_count": 8,
      "outputs": []
    },
    {
      "cell_type": "code",
      "source": [
        "def plot_attention(attention, num_heads, batch_idx=0):\n",
        "    fig, axes = plt.subplots(1, num_heads, figsize=(10,5))\n",
        "    fig.suptitle(f'Attention Maps for Batch {batch_idx}', fontsize=32)\n",
        "    for i in range(num_heads):\n",
        "        ax = axes[i]\n",
        "        ax.matshow(attention[batch_idx, i].detach().cpu().numpy(), cmap='viridis')\n",
        "        ax.set_title(f'Head {i+1}',fontsize=32)\n",
        "        ax.axis('off')\n",
        "    plt.show()"
      ],
      "metadata": {
        "id": "sfgZS0XymCSd"
      },
      "execution_count": 9,
      "outputs": []
    },
    {
      "cell_type": "code",
      "source": [
        "plot_attention(attention, num_heads)"
      ],
      "metadata": {
        "colab": {
          "base_uri": "https://localhost:8080/",
          "height": 363
        },
        "id": "OyFAg6VHmHQb",
        "outputId": "fb396de7-f717-4dcf-fa68-0a9cfe464a88"
      },
      "execution_count": 10,
      "outputs": [
        {
          "output_type": "display_data",
          "data": {
            "text/plain": [
              "<Figure size 1000x500 with 4 Axes>"
            ],
            "image/png": "[encoded data removed]"
          },
          "metadata": {}
        }
      ]
    }
  ]
}